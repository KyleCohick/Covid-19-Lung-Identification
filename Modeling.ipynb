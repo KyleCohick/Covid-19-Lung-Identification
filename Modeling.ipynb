{
 "cells": [
  {
   "cell_type": "markdown",
   "metadata": {},
   "source": [
    "# Coronavirus X-ray Classifier - Modelling\n",
    "\n",
    "Name: Kyle Cohick   \n",
    "Class: CSCI 349: Intro to Data Mining   \n",
    "Semester: 2020SP   \n",
    "Instructor: Brian King "
   ]
  },
  {
   "cell_type": "code",
   "execution_count": 15,
   "metadata": {},
   "outputs": [],
   "source": [
    "from IPython.display import display\n",
    "import itertools as it\n",
    "from keras import optimizers\n",
    "from keras.layers import Conv2D, Dropout, Flatten, MaxPooling2D\n",
    "from keras.layers.core import Activation, Dense\n",
    "from keras.models import Sequential\n",
    "from keras.preprocessing import image\n",
    "from keras.wrappers.scikit_learn import KerasClassifier\n",
    "import matplotlib.pyplot as plt\n",
    "import numpy as np\n",
    "import os\n",
    "import pandas as pd\n",
    "import plotly\n",
    "import plotly.graph_objects as go\n",
    "import plotly.express as px\n",
    "from PIL import Image\n",
    "import seaborn as sns\n",
    "from sklearn.metrics import classification_report, confusion_matrix\n",
    "from sklearn.model_selection import GridSearchCV"
   ]
  },
  {
   "cell_type": "markdown",
   "metadata": {},
   "source": [
    "## Data Import\n",
    "All the data was prepped in my folders in the DataPrep_EDA.ipynb file, so the code below is just to load the data and make it available for modelling."
   ]
  },
  {
   "cell_type": "code",
   "execution_count": 2,
   "metadata": {},
   "outputs": [
    {
     "name": "stdout",
     "output_type": "stream",
     "text": [
      "Found 232 images belonging to 2 classes.\n",
      "Found 60 images belonging to 2 classes.\n"
     ]
    }
   ],
   "source": [
    "# creating instances of ImageDataGenerator for the training and validation imagesets\n",
    "train_imageDataGenerator = image.ImageDataGenerator(rescale = 1./255, # to what size it's being rescaled\n",
    "                                                    shear_range = 0.2, # shear intensity\n",
    "                                                    zoom_range = 0.2) # how much to zoom in\n",
    "\n",
    "val_imageDataGenerator = image.ImageDataGenerator(rescale=1./255)\n",
    "\n",
    "# reshaping the test and validation images\n",
    "train_generator = train_imageDataGenerator.flow_from_directory(\n",
    "    'data/prepped_datasets/training', # directory containing the images\n",
    "    target_size = (224,224), # the dimensions to which all images found will be resized\n",
    "    batch_size = 32, # size of batches\n",
    "    class_mode = 'binary', # determines type of label array returned, since there are two classes, binary is fine\n",
    "    shuffle=True) # shuffles order images are interred\n",
    "validation_generator = val_imageDataGenerator.flow_from_directory(\n",
    "    'data/prepped_datasets/val',\n",
    "    target_size = (224,224),\n",
    "    batch_size = 32,\n",
    "    class_mode = 'binary', \n",
    "    shuffle=True)\n",
    "\n",
    "# sources:\n",
    "# https://keras.io/preprocessing/image/\n",
    "# https://blog.keras.io/building-powerful-image-classification-models-using-very-little-data.html\n",
    "# https://towardsdatascience.com/detecting-covid-19-using-deep-learning-262956b6f981"
   ]
  },
  {
   "cell_type": "markdown",
   "metadata": {},
   "source": [
    "## 3-Layer Model\n",
    "This model will be built and tested against the hyperparamters in a 3-layer Sequential Keras model."
   ]
  },
  {
   "cell_type": "code",
   "execution_count": 24,
   "metadata": {},
   "outputs": [],
   "source": [
    "# model creation\n",
    "model3 = Sequential()\n",
    "\n",
    "# input layer\n",
    "model3.add(Conv2D(32, (3, 3), input_shape=(224, 224, 3)))\n",
    "model3.add(Activation('relu'))\n",
    "model3.add(MaxPooling2D(pool_size=(2, 2)))\n",
    "\n",
    "# hidden layer 1\n",
    "model3.add(Conv2D(32, (3, 3)))\n",
    "model3.add(Activation('relu'))\n",
    "model3.add(MaxPooling2D(pool_size=(2, 2)))\n",
    "\n",
    "# hidden layer 2\n",
    "model3.add(Conv2D(64, (3, 3)))\n",
    "model3.add(Activation('relu'))\n",
    "model3.add(MaxPooling2D(pool_size=(2, 2)))\n",
    "\n",
    "model3.add(Flatten())  # this converts our 3D feature maps to 1D feature vectors\n",
    "model3.add(Dense(64))\n",
    "model3.add(Activation('relu'))\n",
    "model3.add(Dropout(0.5))\n",
    "model3.add(Dense(1))\n",
    "model3.add(Activation('sigmoid'))\n",
    "\n",
    "model3.compile(loss='binary_crossentropy',\n",
    "              optimizer='rmsprop',\n",
    "              metrics=['accuracy'])\n",
    "\n",
    "# Sources:\n",
    "# https://blog.keras.io/building-powerful-image-classification-models-using-very-little-data.html\n",
    "# https://towardsdatascience.com/detecting-covid-19-using-deep-learning-262956b6f981"
   ]
  },
  {
   "cell_type": "markdown",
   "metadata": {},
   "source": [
    "### Initial Training"
   ]
  },
  {
   "cell_type": "code",
   "execution_count": 25,
   "metadata": {},
   "outputs": [
    {
     "name": "stdout",
     "output_type": "stream",
     "text": [
      "Epoch 1/10\n",
      "8/8 [==============================] - 12s 1s/step - loss: 0.9773 - accuracy: 0.5216 - val_loss: 0.6496 - val_accuracy: 0.8500\n",
      "Epoch 2/10\n",
      "8/8 [==============================] - 11s 1s/step - loss: 0.6350 - accuracy: 0.6164 - val_loss: 0.4130 - val_accuracy: 0.8833\n",
      "Epoch 3/10\n",
      "8/8 [==============================] - 11s 1s/step - loss: 0.5188 - accuracy: 0.7500 - val_loss: 0.3499 - val_accuracy: 0.8833\n",
      "Epoch 4/10\n",
      "8/8 [==============================] - 11s 1s/step - loss: 0.5521 - accuracy: 0.7931 - val_loss: 0.4045 - val_accuracy: 0.9167\n",
      "Epoch 5/10\n",
      "8/8 [==============================] - 11s 1s/step - loss: 0.3477 - accuracy: 0.8534 - val_loss: 0.1694 - val_accuracy: 0.9500\n",
      "Epoch 6/10\n",
      "8/8 [==============================] - 11s 1s/step - loss: 0.5728 - accuracy: 0.8491 - val_loss: 0.2964 - val_accuracy: 0.8667\n",
      "Epoch 7/10\n",
      "8/8 [==============================] - 12s 1s/step - loss: 0.3410 - accuracy: 0.8879 - val_loss: 0.0993 - val_accuracy: 0.9667\n",
      "Epoch 8/10\n",
      "8/8 [==============================] - 12s 1s/step - loss: 0.3429 - accuracy: 0.8664 - val_loss: 0.1172 - val_accuracy: 0.9500\n",
      "Epoch 9/10\n",
      "8/8 [==============================] - 12s 1s/step - loss: 0.2622 - accuracy: 0.9052 - val_loss: 0.2041 - val_accuracy: 0.9333\n",
      "Epoch 10/10\n",
      "8/8 [==============================] - 11s 1s/step - loss: 0.4095 - accuracy: 0.8319 - val_loss: 0.1946 - val_accuracy: 0.9333\n"
     ]
    }
   ],
   "source": [
    "model3_result = model3.fit_generator(\n",
    "    train_generator,\n",
    "    steps_per_epoch=8,\n",
    "    epochs=10,\n",
    "    validation_data=validation_generator,\n",
    "    validation_steps=2,\n",
    "    verbose=1\n",
    ")"
   ]
  },
  {
   "cell_type": "markdown",
   "metadata": {},
   "source": [
    "## Evaluation"
   ]
  },
  {
   "cell_type": "code",
   "execution_count": 7,
   "metadata": {},
   "outputs": [
    {
     "data": {
      "text/html": [
       "<div>\n",
       "<style scoped>\n",
       "    .dataframe tbody tr th:only-of-type {\n",
       "        vertical-align: middle;\n",
       "    }\n",
       "\n",
       "    .dataframe tbody tr th {\n",
       "        vertical-align: top;\n",
       "    }\n",
       "\n",
       "    .dataframe thead th {\n",
       "        text-align: right;\n",
       "    }\n",
       "</style>\n",
       "<table border=\"1\" class=\"dataframe\">\n",
       "  <thead>\n",
       "    <tr style=\"text-align: right;\">\n",
       "      <th></th>\n",
       "      <th>val_loss</th>\n",
       "      <th>val_accuracy</th>\n",
       "      <th>loss</th>\n",
       "      <th>accuracy</th>\n",
       "    </tr>\n",
       "  </thead>\n",
       "  <tbody>\n",
       "    <tr>\n",
       "      <th>0</th>\n",
       "      <td>0.705152</td>\n",
       "      <td>0.500000</td>\n",
       "      <td>0.746789</td>\n",
       "      <td>0.556035</td>\n",
       "    </tr>\n",
       "    <tr>\n",
       "      <th>1</th>\n",
       "      <td>0.390296</td>\n",
       "      <td>0.833333</td>\n",
       "      <td>0.544702</td>\n",
       "      <td>0.728448</td>\n",
       "    </tr>\n",
       "    <tr>\n",
       "      <th>2</th>\n",
       "      <td>0.274096</td>\n",
       "      <td>0.883333</td>\n",
       "      <td>0.516743</td>\n",
       "      <td>0.780172</td>\n",
       "    </tr>\n",
       "    <tr>\n",
       "      <th>3</th>\n",
       "      <td>0.162740</td>\n",
       "      <td>0.950000</td>\n",
       "      <td>0.508329</td>\n",
       "      <td>0.806035</td>\n",
       "    </tr>\n",
       "    <tr>\n",
       "      <th>4</th>\n",
       "      <td>0.514610</td>\n",
       "      <td>0.850000</td>\n",
       "      <td>0.218445</td>\n",
       "      <td>0.918103</td>\n",
       "    </tr>\n",
       "    <tr>\n",
       "      <th>5</th>\n",
       "      <td>0.793025</td>\n",
       "      <td>0.783333</td>\n",
       "      <td>0.433329</td>\n",
       "      <td>0.844828</td>\n",
       "    </tr>\n",
       "    <tr>\n",
       "      <th>6</th>\n",
       "      <td>0.095991</td>\n",
       "      <td>0.966667</td>\n",
       "      <td>0.437889</td>\n",
       "      <td>0.896552</td>\n",
       "    </tr>\n",
       "    <tr>\n",
       "      <th>7</th>\n",
       "      <td>0.022465</td>\n",
       "      <td>0.983333</td>\n",
       "      <td>0.166192</td>\n",
       "      <td>0.948276</td>\n",
       "    </tr>\n",
       "    <tr>\n",
       "      <th>8</th>\n",
       "      <td>0.228743</td>\n",
       "      <td>0.966667</td>\n",
       "      <td>0.104254</td>\n",
       "      <td>0.965517</td>\n",
       "    </tr>\n",
       "    <tr>\n",
       "      <th>9</th>\n",
       "      <td>0.087123</td>\n",
       "      <td>0.966667</td>\n",
       "      <td>0.331765</td>\n",
       "      <td>0.896552</td>\n",
       "    </tr>\n",
       "  </tbody>\n",
       "</table>\n",
       "</div>"
      ],
      "text/plain": [
       "   val_loss  val_accuracy      loss  accuracy\n",
       "0  0.705152      0.500000  0.746789  0.556035\n",
       "1  0.390296      0.833333  0.544702  0.728448\n",
       "2  0.274096      0.883333  0.516743  0.780172\n",
       "3  0.162740      0.950000  0.508329  0.806035\n",
       "4  0.514610      0.850000  0.218445  0.918103\n",
       "5  0.793025      0.783333  0.433329  0.844828\n",
       "6  0.095991      0.966667  0.437889  0.896552\n",
       "7  0.022465      0.983333  0.166192  0.948276\n",
       "8  0.228743      0.966667  0.104254  0.965517\n",
       "9  0.087123      0.966667  0.331765  0.896552"
      ]
     },
     "execution_count": 7,
     "metadata": {},
     "output_type": "execute_result"
    }
   ],
   "source": [
    "pd.DataFrame(model3_result.history)"
   ]
  },
  {
   "cell_type": "code",
   "execution_count": 28,
   "metadata": {},
   "outputs": [
    {
     "data": {
      "text/plain": [
       "{'Covid': 0, 'Normal': 1}"
      ]
     },
     "execution_count": 28,
     "metadata": {},
     "output_type": "execute_result"
    }
   ],
   "source": [
    "train_generator.class_indices"
   ]
  },
  {
   "cell_type": "code",
   "execution_count": null,
   "metadata": {},
   "outputs": [],
   "source": [
    "y_true = []\n",
    "y_pred = []\n",
    "\n",
    "# get predictions for all in the Normal validation set\n",
    "for file in os.listdir(\"./data/prepped_datasets/val/Normal/\"):\n",
    "    img=image.load_img(\"./data/prepped_datasets/val/Normal/\" + file, target_size=(224,224))\n",
    "    img=image.img_to_array(img)\n",
    "    img=np.expand_dims(img, axis=0)\n",
    "    pred=model3.predict_classes(img)\n",
    "    y_pred.append(pred[0,0])\n",
    "    y_true.append(1)\n",
    "    \n",
    "for file in os.listdir(\"./data/prepped_datasets/val/Covid/\"):\n",
    "    img=image.load_img(\"./data/prepped_datasets/val/Covid/\" + file,target_size=(224,224))\n",
    "    img=image.img_to_array(img)\n",
    "    img=np.expand_dims(img,axis=0)\n",
    "    pred=model3.predict_classes(img)\n",
    "    y_pred.append(pred[0,0])\n",
    "    y_true.append(0)\n",
    "    \n",
    "y_true=np.array(y_true)\n",
    "y_pred=np.array(y_pred)"
   ]
  },
  {
   "cell_type": "code",
   "execution_count": 53,
   "metadata": {},
   "outputs": [
    {
     "name": "stdout",
     "output_type": "stream",
     "text": [
      "[[28  2]\n",
      " [ 4 26]]\n"
     ]
    }
   ],
   "source": [
    "print(confusion_matrix(y_true, y_pred))"
   ]
  },
  {
   "cell_type": "code",
   "execution_count": 54,
   "metadata": {},
   "outputs": [
    {
     "name": "stdout",
     "output_type": "stream",
     "text": [
      "              precision    recall  f1-score   support\n",
      "\n",
      "           0       0.88      0.93      0.90        30\n",
      "           1       0.93      0.87      0.90        30\n",
      "\n",
      "    accuracy                           0.90        60\n",
      "   macro avg       0.90      0.90      0.90        60\n",
      "weighted avg       0.90      0.90      0.90        60\n",
      "\n"
     ]
    }
   ],
   "source": [
    "print(classification_report(y_true, y_pred))"
   ]
  },
  {
   "cell_type": "code",
   "execution_count": 55,
   "metadata": {},
   "outputs": [
    {
     "data": {
      "text/plain": [
       "<matplotlib.axes._subplots.AxesSubplot at 0x1d581de7908>"
      ]
     },
     "execution_count": 55,
     "metadata": {},
     "output_type": "execute_result"
    },
    {
     "data": {
      "image/png": "[encoded data removed]",
      "text/plain": [
       "<Figure size 432x288 with 2 Axes>"
      ]
     },
     "metadata": {
      "needs_background": "light"
     },
     "output_type": "display_data"
    }
   ],
   "source": [
    "# {'Covid': 0, 'Normal': 1}\n",
    "sns.heatmap(confusion_matrix(y_true, y_pred), annot=True)"
   ]
  },
  {
   "cell_type": "markdown",
   "metadata": {},
   "source": [
    "This model, albeit the simplest in terms of complexity seems to perform the best with the highest f1-scores, a higher val_accuracy, but with a slightly higher loss rate. This will be the model that I perform hyperparameter tuning on."
   ]
  },
  {
   "cell_type": "markdown",
   "metadata": {},
   "source": [
    "## 5-Layer Model"
   ]
  },
  {
   "cell_type": "code",
   "execution_count": 43,
   "metadata": {},
   "outputs": [],
   "source": [
    "# model creation\n",
    "model5 = Sequential()\n",
    "\n",
    "# input layer\n",
    "model5.add(Conv2D(32, (3, 3), input_shape=(224, 224, 3)))\n",
    "model5.add(Activation('relu'))\n",
    "model5.add(MaxPooling2D(pool_size=(2, 2)))\n",
    "\n",
    "# hidden layer 1\n",
    "model5.add(Conv2D(32, (3, 3)))\n",
    "model5.add(Activation('relu'))\n",
    "model5.add(MaxPooling2D(pool_size=(2, 2)))\n",
    "\n",
    "# hidden layer 2\n",
    "model5.add(Conv2D(64, (3, 3)))\n",
    "model5.add(Activation('relu'))\n",
    "model5.add(MaxPooling2D(pool_size=(2, 2)))\n",
    "\n",
    "# hidden layer 3\n",
    "model5.add(Conv2D(128, (3, 3)))\n",
    "model5.add(Activation('relu'))\n",
    "model5.add(MaxPooling2D(pool_size=(2, 2)))\n",
    "\n",
    "# hidden layer 4\n",
    "model5.add(Conv2D(64, (3, 3)))\n",
    "model5.add(Activation('relu'))\n",
    "model5.add(MaxPooling2D(pool_size=(2, 2)))\n",
    "\n",
    "model5.add(Flatten())  # this converts our 3D feature maps to 1D feature vectors\n",
    "model5.add(Dense(64))\n",
    "model5.add(Activation('relu'))\n",
    "model5.add(Dropout(0.5))\n",
    "model5.add(Dense(1))\n",
    "model5.add(Activation('sigmoid'))\n",
    "\n",
    "model5.compile(loss='binary_crossentropy',\n",
    "              optimizer='rmsprop',\n",
    "              metrics=['accuracy'])"
   ]
  },
  {
   "cell_type": "code",
   "execution_count": 44,
   "metadata": {},
   "outputs": [
    {
     "name": "stdout",
     "output_type": "stream",
     "text": [
      "Epoch 1/10\n",
      "8/8 [==============================] - 12s 2s/step - loss: 0.7332 - accuracy: 0.4957 - val_loss: 0.6827 - val_accuracy: 0.5000\n",
      "Epoch 2/10\n",
      "8/8 [==============================] - 12s 1s/step - loss: 0.6805 - accuracy: 0.5733 - val_loss: 0.5779 - val_accuracy: 0.8333\n",
      "Epoch 3/10\n",
      "8/8 [==============================] - 12s 1s/step - loss: 0.5999 - accuracy: 0.6595 - val_loss: 0.3941 - val_accuracy: 0.9333\n",
      "Epoch 4/10\n",
      "8/8 [==============================] - 12s 1s/step - loss: 0.4060 - accuracy: 0.8103 - val_loss: 0.2092 - val_accuracy: 0.9500\n",
      "Epoch 5/10\n",
      "8/8 [==============================] - 11s 1s/step - loss: 0.4275 - accuracy: 0.8491 - val_loss: 1.2962 - val_accuracy: 0.5500\n",
      "Epoch 6/10\n",
      "8/8 [==============================] - 11s 1s/step - loss: 0.4458 - accuracy: 0.8276 - val_loss: 0.2496 - val_accuracy: 0.9333\n",
      "Epoch 7/10\n",
      "8/8 [==============================] - 11s 1s/step - loss: 0.2111 - accuracy: 0.9095 - val_loss: 0.3127 - val_accuracy: 0.9167\n",
      "Epoch 8/10\n",
      "8/8 [==============================] - 11s 1s/step - loss: 0.4525 - accuracy: 0.8147 - val_loss: 0.1614 - val_accuracy: 0.9333\n",
      "Epoch 9/10\n",
      "8/8 [==============================] - 12s 1s/step - loss: 0.2446 - accuracy: 0.9310 - val_loss: 0.1446 - val_accuracy: 0.9167\n",
      "Epoch 10/10\n",
      "8/8 [==============================] - 11s 1s/step - loss: 0.1753 - accuracy: 0.9397 - val_loss: 0.1387 - val_accuracy: 0.8667\n"
     ]
    }
   ],
   "source": [
    "model5_result = model5.fit_generator(\n",
    "    train_generator,\n",
    "    steps_per_epoch=8,\n",
    "    epochs=10,\n",
    "    validation_data=validation_generator,\n",
    "    validation_steps=2,\n",
    "    verbose=1\n",
    ")"
   ]
  },
  {
   "cell_type": "code",
   "execution_count": 45,
   "metadata": {},
   "outputs": [
    {
     "data": {
      "text/html": [
       "<div>\n",
       "<style scoped>\n",
       "    .dataframe tbody tr th:only-of-type {\n",
       "        vertical-align: middle;\n",
       "    }\n",
       "\n",
       "    .dataframe tbody tr th {\n",
       "        vertical-align: top;\n",
       "    }\n",
       "\n",
       "    .dataframe thead th {\n",
       "        text-align: right;\n",
       "    }\n",
       "</style>\n",
       "<table border=\"1\" class=\"dataframe\">\n",
       "  <thead>\n",
       "    <tr style=\"text-align: right;\">\n",
       "      <th></th>\n",
       "      <th>val_loss</th>\n",
       "      <th>val_accuracy</th>\n",
       "      <th>loss</th>\n",
       "      <th>accuracy</th>\n",
       "    </tr>\n",
       "  </thead>\n",
       "  <tbody>\n",
       "    <tr>\n",
       "      <th>0</th>\n",
       "      <td>0.682701</td>\n",
       "      <td>0.500000</td>\n",
       "      <td>0.743064</td>\n",
       "      <td>0.495690</td>\n",
       "    </tr>\n",
       "    <tr>\n",
       "      <th>1</th>\n",
       "      <td>0.577937</td>\n",
       "      <td>0.833333</td>\n",
       "      <td>0.679885</td>\n",
       "      <td>0.573276</td>\n",
       "    </tr>\n",
       "    <tr>\n",
       "      <th>2</th>\n",
       "      <td>0.394103</td>\n",
       "      <td>0.933333</td>\n",
       "      <td>0.597993</td>\n",
       "      <td>0.659483</td>\n",
       "    </tr>\n",
       "    <tr>\n",
       "      <th>3</th>\n",
       "      <td>0.209245</td>\n",
       "      <td>0.950000</td>\n",
       "      <td>0.412134</td>\n",
       "      <td>0.810345</td>\n",
       "    </tr>\n",
       "    <tr>\n",
       "      <th>4</th>\n",
       "      <td>1.296224</td>\n",
       "      <td>0.550000</td>\n",
       "      <td>0.427489</td>\n",
       "      <td>0.849138</td>\n",
       "    </tr>\n",
       "    <tr>\n",
       "      <th>5</th>\n",
       "      <td>0.249650</td>\n",
       "      <td>0.933333</td>\n",
       "      <td>0.421051</td>\n",
       "      <td>0.827586</td>\n",
       "    </tr>\n",
       "    <tr>\n",
       "      <th>6</th>\n",
       "      <td>0.312706</td>\n",
       "      <td>0.916667</td>\n",
       "      <td>0.214564</td>\n",
       "      <td>0.909483</td>\n",
       "    </tr>\n",
       "    <tr>\n",
       "      <th>7</th>\n",
       "      <td>0.161442</td>\n",
       "      <td>0.933333</td>\n",
       "      <td>0.470782</td>\n",
       "      <td>0.814655</td>\n",
       "    </tr>\n",
       "    <tr>\n",
       "      <th>8</th>\n",
       "      <td>0.144557</td>\n",
       "      <td>0.916667</td>\n",
       "      <td>0.223868</td>\n",
       "      <td>0.931035</td>\n",
       "    </tr>\n",
       "    <tr>\n",
       "      <th>9</th>\n",
       "      <td>0.138656</td>\n",
       "      <td>0.866667</td>\n",
       "      <td>0.154931</td>\n",
       "      <td>0.939655</td>\n",
       "    </tr>\n",
       "  </tbody>\n",
       "</table>\n",
       "</div>"
      ],
      "text/plain": [
       "   val_loss  val_accuracy      loss  accuracy\n",
       "0  0.682701      0.500000  0.743064  0.495690\n",
       "1  0.577937      0.833333  0.679885  0.573276\n",
       "2  0.394103      0.933333  0.597993  0.659483\n",
       "3  0.209245      0.950000  0.412134  0.810345\n",
       "4  1.296224      0.550000  0.427489  0.849138\n",
       "5  0.249650      0.933333  0.421051  0.827586\n",
       "6  0.312706      0.916667  0.214564  0.909483\n",
       "7  0.161442      0.933333  0.470782  0.814655\n",
       "8  0.144557      0.916667  0.223868  0.931035\n",
       "9  0.138656      0.866667  0.154931  0.939655"
      ]
     },
     "execution_count": 45,
     "metadata": {},
     "output_type": "execute_result"
    }
   ],
   "source": [
    "pd.DataFrame(model5_result.history)"
   ]
  },
  {
   "cell_type": "code",
   "execution_count": 48,
   "metadata": {},
   "outputs": [],
   "source": [
    "y_pred = []\n",
    "\n",
    "# get predictions for all in the Normal validation set\n",
    "for file in os.listdir(\"./data/prepped_datasets/val/Normal/\"):\n",
    "    img=image.load_img(\"./data/prepped_datasets/val/Normal/\" + file, target_size=(224,224))\n",
    "    img=image.img_to_array(img)\n",
    "    img=np.expand_dims(img, axis=0)\n",
    "    pred=model5.predict_classes(img)\n",
    "    y_pred.append(pred[0,0])\n",
    "    \n",
    "for file in os.listdir(\"./data/prepped_datasets/val/Covid/\"):\n",
    "    img=image.load_img(\"./data/prepped_datasets/val/Covid/\" + file, target_size=(224,224))\n",
    "    img=image.img_to_array(img)\n",
    "    img=np.expand_dims(img,axis=0)\n",
    "    pred=model5.predict_classes(img)\n",
    "    y_pred.append(pred[0,0])\n",
    "    \n",
    "y_pred=np.array(y_pred)"
   ]
  },
  {
   "cell_type": "code",
   "execution_count": 49,
   "metadata": {},
   "outputs": [
    {
     "name": "stdout",
     "output_type": "stream",
     "text": [
      "[[30  0]\n",
      " [12 18]]\n"
     ]
    }
   ],
   "source": [
    "print(confusion_matrix(y_true, y_pred))"
   ]
  },
  {
   "cell_type": "code",
   "execution_count": 50,
   "metadata": {},
   "outputs": [
    {
     "name": "stdout",
     "output_type": "stream",
     "text": [
      "              precision    recall  f1-score   support\n",
      "\n",
      "           0       0.71      1.00      0.83        30\n",
      "           1       1.00      0.60      0.75        30\n",
      "\n",
      "    accuracy                           0.80        60\n",
      "   macro avg       0.86      0.80      0.79        60\n",
      "weighted avg       0.86      0.80      0.79        60\n",
      "\n"
     ]
    }
   ],
   "source": [
    "print(classification_report(y_true, y_pred))"
   ]
  },
  {
   "cell_type": "code",
   "execution_count": 51,
   "metadata": {},
   "outputs": [
    {
     "data": {
      "text/plain": [
       "<matplotlib.axes._subplots.AxesSubplot at 0x1d581d52ac8>"
      ]
     },
     "execution_count": 51,
     "metadata": {},
     "output_type": "execute_result"
    },
    {
     "data": {
      "image/png": "[encoded data removed]",
      "text/plain": [
       "<Figure size 432x288 with 2 Axes>"
      ]
     },
     "metadata": {
      "needs_background": "light"
     },
     "output_type": "display_data"
    }
   ],
   "source": [
    "# {'Covid': 0, 'Normal': 1}\n",
    "sns.heatmap(confusion_matrix(y_true, y_pred), annot=True)"
   ]
  },
  {
   "cell_type": "markdown",
   "metadata": {},
   "source": [
    "The findings here looked promising as the accuracy was high, but upon the test data, the scores were extremely low. The one positive thing that came out of this evaluation is the propensity for lack of false positives."
   ]
  },
  {
   "cell_type": "markdown",
   "metadata": {},
   "source": [
    "## 6-Layer Model"
   ]
  },
  {
   "cell_type": "code",
   "execution_count": 20,
   "metadata": {},
   "outputs": [],
   "source": [
    "# model creation\n",
    "model6 = Sequential()\n",
    "\n",
    "# input layer\n",
    "model6.add(Conv2D(32, (3, 3), input_shape=(224, 224, 3)))\n",
    "model6.add(Activation('relu'))\n",
    "model6.add(MaxPooling2D(pool_size=(2, 2)))\n",
    "\n",
    "# hidden layer 1\n",
    "model6.add(Conv2D(32, (3, 3)))\n",
    "model6.add(Activation('relu'))\n",
    "model6.add(MaxPooling2D(pool_size=(2, 2)))\n",
    "\n",
    "# hidden layer 2\n",
    "model6.add(Conv2D(64, (3, 3)))\n",
    "model6.add(Activation('relu'))\n",
    "model6.add(MaxPooling2D(pool_size=(2, 2)))\n",
    "\n",
    "# hidden layer 3\n",
    "model6.add(Conv2D(128, (3, 3)))\n",
    "model6.add(Activation('relu'))\n",
    "model6.add(MaxPooling2D(pool_size=(2, 2)))\n",
    "\n",
    "# hidden layer 4\n",
    "model6.add(Conv2D(128, (3, 3)))\n",
    "model6.add(Activation('relu'))\n",
    "model6.add(MaxPooling2D(pool_size=(2, 2)))\n",
    "\n",
    "# hidden layer 5\n",
    "model6.add(Conv2D(64, (3, 3)))\n",
    "model6.add(Activation('relu'))\n",
    "model6.add(MaxPooling2D(pool_size=(2, 2)))\n",
    "\n",
    "model6.add(Flatten())  # this converts our 3D feature maps to 1D feature vectors\n",
    "model6.add(Dense(64))\n",
    "model6.add(Activation('relu'))\n",
    "model6.add(Dropout(0.5))\n",
    "model6.add(Dense(1))\n",
    "model6.add(Activation('sigmoid'))\n",
    "\n",
    "model6.compile(loss='binary_crossentropy',\n",
    "              optimizer='rmsprop',\n",
    "              metrics=['accuracy'])"
   ]
  },
  {
   "cell_type": "code",
   "execution_count": 21,
   "metadata": {},
   "outputs": [
    {
     "name": "stdout",
     "output_type": "stream",
     "text": [
      "Epoch 1/10\n",
      "8/8 [==============================] - 12s 2s/step - loss: 0.7692 - accuracy: 0.5000 - val_loss: 0.6959 - val_accuracy: 0.5000\n",
      "Epoch 2/10\n",
      "8/8 [==============================] - 11s 1s/step - loss: 0.7083 - accuracy: 0.5431 - val_loss: 0.6859 - val_accuracy: 0.5000\n",
      "Epoch 3/10\n",
      "8/8 [==============================] - 11s 1s/step - loss: 0.6842 - accuracy: 0.5690 - val_loss: 0.6628 - val_accuracy: 0.5000\n",
      "Epoch 4/10\n",
      "8/8 [==============================] - 11s 1s/step - loss: 0.6426 - accuracy: 0.7026 - val_loss: 0.5336 - val_accuracy: 0.8833\n",
      "Epoch 5/10\n",
      "8/8 [==============================] - 11s 1s/step - loss: 0.4859 - accuracy: 0.8017 - val_loss: 0.3836 - val_accuracy: 0.7833\n",
      "Epoch 6/10\n",
      "8/8 [==============================] - 11s 1s/step - loss: 0.3955 - accuracy: 0.8362 - val_loss: 1.5338 - val_accuracy: 0.6667\n",
      "Epoch 7/10\n",
      "8/8 [==============================] - 12s 1s/step - loss: 0.6151 - accuracy: 0.7672 - val_loss: 0.4617 - val_accuracy: 0.9000\n",
      "Epoch 8/10\n",
      "8/8 [==============================] - 11s 1s/step - loss: 0.4562 - accuracy: 0.8362 - val_loss: 0.2722 - val_accuracy: 0.8500\n",
      "Epoch 9/10\n",
      "8/8 [==============================] - 12s 1s/step - loss: 0.4184 - accuracy: 0.8276 - val_loss: 0.2980 - val_accuracy: 0.9000\n",
      "Epoch 10/10\n",
      "8/8 [==============================] - 12s 1s/step - loss: 0.4319 - accuracy: 0.8060 - val_loss: 0.1984 - val_accuracy: 0.9500\n"
     ]
    }
   ],
   "source": [
    "model6_result = model6.fit_generator(\n",
    "    train_generator,\n",
    "    steps_per_epoch=8,\n",
    "    epochs=10,\n",
    "    validation_data=validation_generator,\n",
    "    validation_steps=2,\n",
    "    verbose=1\n",
    ")"
   ]
  },
  {
   "cell_type": "code",
   "execution_count": 87,
   "metadata": {},
   "outputs": [
    {
     "data": {
      "text/html": [
       "<div>\n",
       "<style scoped>\n",
       "    .dataframe tbody tr th:only-of-type {\n",
       "        vertical-align: middle;\n",
       "    }\n",
       "\n",
       "    .dataframe tbody tr th {\n",
       "        vertical-align: top;\n",
       "    }\n",
       "\n",
       "    .dataframe thead th {\n",
       "        text-align: right;\n",
       "    }\n",
       "</style>\n",
       "<table border=\"1\" class=\"dataframe\">\n",
       "  <thead>\n",
       "    <tr style=\"text-align: right;\">\n",
       "      <th></th>\n",
       "      <th>val_loss</th>\n",
       "      <th>val_accuracy</th>\n",
       "      <th>loss</th>\n",
       "      <th>accuracy</th>\n",
       "    </tr>\n",
       "  </thead>\n",
       "  <tbody>\n",
       "    <tr>\n",
       "      <th>0</th>\n",
       "      <td>0.695885</td>\n",
       "      <td>0.500000</td>\n",
       "      <td>0.775584</td>\n",
       "      <td>0.500000</td>\n",
       "    </tr>\n",
       "    <tr>\n",
       "      <th>1</th>\n",
       "      <td>0.685942</td>\n",
       "      <td>0.500000</td>\n",
       "      <td>0.708688</td>\n",
       "      <td>0.543103</td>\n",
       "    </tr>\n",
       "    <tr>\n",
       "      <th>2</th>\n",
       "      <td>0.662804</td>\n",
       "      <td>0.500000</td>\n",
       "      <td>0.683086</td>\n",
       "      <td>0.568965</td>\n",
       "    </tr>\n",
       "    <tr>\n",
       "      <th>3</th>\n",
       "      <td>0.533614</td>\n",
       "      <td>0.883333</td>\n",
       "      <td>0.644973</td>\n",
       "      <td>0.702586</td>\n",
       "    </tr>\n",
       "    <tr>\n",
       "      <th>4</th>\n",
       "      <td>0.383625</td>\n",
       "      <td>0.783333</td>\n",
       "      <td>0.483926</td>\n",
       "      <td>0.801724</td>\n",
       "    </tr>\n",
       "    <tr>\n",
       "      <th>5</th>\n",
       "      <td>1.533795</td>\n",
       "      <td>0.666667</td>\n",
       "      <td>0.416848</td>\n",
       "      <td>0.836207</td>\n",
       "    </tr>\n",
       "    <tr>\n",
       "      <th>6</th>\n",
       "      <td>0.461688</td>\n",
       "      <td>0.900000</td>\n",
       "      <td>0.603584</td>\n",
       "      <td>0.767241</td>\n",
       "    </tr>\n",
       "    <tr>\n",
       "      <th>7</th>\n",
       "      <td>0.272190</td>\n",
       "      <td>0.850000</td>\n",
       "      <td>0.448026</td>\n",
       "      <td>0.836207</td>\n",
       "    </tr>\n",
       "    <tr>\n",
       "      <th>8</th>\n",
       "      <td>0.298029</td>\n",
       "      <td>0.900000</td>\n",
       "      <td>0.419338</td>\n",
       "      <td>0.827586</td>\n",
       "    </tr>\n",
       "    <tr>\n",
       "      <th>9</th>\n",
       "      <td>0.198373</td>\n",
       "      <td>0.950000</td>\n",
       "      <td>0.442115</td>\n",
       "      <td>0.806035</td>\n",
       "    </tr>\n",
       "  </tbody>\n",
       "</table>\n",
       "</div>"
      ],
      "text/plain": [
       "   val_loss  val_accuracy      loss  accuracy\n",
       "0  0.695885      0.500000  0.775584  0.500000\n",
       "1  0.685942      0.500000  0.708688  0.543103\n",
       "2  0.662804      0.500000  0.683086  0.568965\n",
       "3  0.533614      0.883333  0.644973  0.702586\n",
       "4  0.383625      0.783333  0.483926  0.801724\n",
       "5  1.533795      0.666667  0.416848  0.836207\n",
       "6  0.461688      0.900000  0.603584  0.767241\n",
       "7  0.272190      0.850000  0.448026  0.836207\n",
       "8  0.298029      0.900000  0.419338  0.827586\n",
       "9  0.198373      0.950000  0.442115  0.806035"
      ]
     },
     "execution_count": 87,
     "metadata": {},
     "output_type": "execute_result"
    }
   ],
   "source": [
    "pd.DataFrame(model6_result.history)"
   ]
  },
  {
   "cell_type": "code",
   "execution_count": 56,
   "metadata": {},
   "outputs": [],
   "source": [
    "y_pred = []\n",
    "\n",
    "# get predictions for all in the Normal validation set\n",
    "for file in os.listdir(\"./data/prepped_datasets/val/Normal/\"):\n",
    "    img=image.load_img(\"./data/prepped_datasets/val/Normal/\" + file, target_size=(224,224))\n",
    "    img=image.img_to_array(img)\n",
    "    img=np.expand_dims(img, axis=0)\n",
    "    pred=model6.predict_classes(img)\n",
    "    y_pred.append(pred[0,0])\n",
    "    \n",
    "for file in os.listdir(\"./data/prepped_datasets/val/Covid/\"):\n",
    "    img=image.load_img(\"./data/prepped_datasets/val/Covid/\" + file, target_size=(224,224))\n",
    "    img=image.img_to_array(img)\n",
    "    img=np.expand_dims(img,axis=0)\n",
    "    pred=model6.predict_classes(img)\n",
    "    y_pred.append(pred[0,0])\n",
    "    \n",
    "y_pred=np.array(y_pred)"
   ]
  },
  {
   "cell_type": "code",
   "execution_count": 57,
   "metadata": {},
   "outputs": [
    {
     "data": {
      "text/plain": [
       "array([[28,  2],\n",
       "       [ 7, 23]], dtype=int64)"
      ]
     },
     "execution_count": 57,
     "metadata": {},
     "output_type": "execute_result"
    }
   ],
   "source": [
    "confusion_matrix(y_true, y_pred)"
   ]
  },
  {
   "cell_type": "code",
   "execution_count": 58,
   "metadata": {},
   "outputs": [
    {
     "name": "stdout",
     "output_type": "stream",
     "text": [
      "              precision    recall  f1-score   support\n",
      "\n",
      "           0       0.80      0.93      0.86        30\n",
      "           1       0.92      0.77      0.84        30\n",
      "\n",
      "    accuracy                           0.85        60\n",
      "   macro avg       0.86      0.85      0.85        60\n",
      "weighted avg       0.86      0.85      0.85        60\n",
      "\n"
     ]
    }
   ],
   "source": [
    "print(classification_report(y_true, y_pred))"
   ]
  },
  {
   "cell_type": "code",
   "execution_count": 59,
   "metadata": {},
   "outputs": [
    {
     "data": {
      "text/plain": [
       "<matplotlib.axes._subplots.AxesSubplot at 0x1d581efd288>"
      ]
     },
     "execution_count": 59,
     "metadata": {},
     "output_type": "execute_result"
    },
    {
     "data": {
      "image/png": "[encoded data removed]",
      "text/plain": [
       "<Figure size 432x288 with 2 Axes>"
      ]
     },
     "metadata": {
      "needs_background": "light"
     },
     "output_type": "display_data"
    }
   ],
   "source": [
    "# {'Covid': 0, 'Normal': 1}\n",
    "sns.heatmap(confusion_matrix(y_true, y_pred), annot=True)"
   ]
  },
  {
   "cell_type": "markdown",
   "metadata": {},
   "source": [
    "The 6-layered model did significantly better than the 5-layered model, with f1-scores higher across the board. However, the only issue is this model does contain false positives."
   ]
  },
  {
   "cell_type": "markdown",
   "metadata": {},
   "source": [
    "# HyperParameter Tuning"
   ]
  },
  {
   "cell_type": "markdown",
   "metadata": {},
   "source": [
    "Below is a dictionary containing all the hyperparamters I would like to train. Unfortunately because I'm using generators to handle my data, I instead have to use my own way to cross check these hyperparamters. So, I've compiled all the combinations into a list and I use a function to create the 3-layer keras model using those hyperparamters and storying the results. From here I'll select the best model off a combination of loss and accuracy."
   ]
  },
  {
   "cell_type": "code",
   "execution_count": 80,
   "metadata": {},
   "outputs": [
    {
     "name": "stdout",
     "output_type": "stream",
     "text": [
      "[('relu', 8, 5, 'adam'), ('relu', 8, 5, 'sgd'), ('relu', 8, 5, 'rmsprop'), ('relu', 8, 10, 'adam'), ('relu', 8, 10, 'sgd'), ('relu', 8, 10, 'rmsprop'), ('relu', 8, 15, 'adam'), ('relu', 8, 15, 'sgd'), ('relu', 8, 15, 'rmsprop'), ('relu', 16, 5, 'adam'), ('relu', 16, 5, 'sgd'), ('relu', 16, 5, 'rmsprop'), ('relu', 16, 10, 'adam'), ('relu', 16, 10, 'sgd'), ('relu', 16, 10, 'rmsprop'), ('relu', 16, 15, 'adam'), ('relu', 16, 15, 'sgd'), ('relu', 16, 15, 'rmsprop'), ('relu', 32, 5, 'adam'), ('relu', 32, 5, 'sgd'), ('relu', 32, 5, 'rmsprop'), ('relu', 32, 10, 'adam'), ('relu', 32, 10, 'sgd'), ('relu', 32, 10, 'rmsprop'), ('relu', 32, 15, 'adam'), ('relu', 32, 15, 'sgd'), ('relu', 32, 15, 'rmsprop'), ('tanh', 8, 5, 'adam'), ('tanh', 8, 5, 'sgd'), ('tanh', 8, 5, 'rmsprop'), ('tanh', 8, 10, 'adam'), ('tanh', 8, 10, 'sgd'), ('tanh', 8, 10, 'rmsprop'), ('tanh', 8, 15, 'adam'), ('tanh', 8, 15, 'sgd'), ('tanh', 8, 15, 'rmsprop'), ('tanh', 16, 5, 'adam'), ('tanh', 16, 5, 'sgd'), ('tanh', 16, 5, 'rmsprop'), ('tanh', 16, 10, 'adam'), ('tanh', 16, 10, 'sgd'), ('tanh', 16, 10, 'rmsprop'), ('tanh', 16, 15, 'adam'), ('tanh', 16, 15, 'sgd'), ('tanh', 16, 15, 'rmsprop'), ('tanh', 32, 5, 'adam'), ('tanh', 32, 5, 'sgd'), ('tanh', 32, 5, 'rmsprop'), ('tanh', 32, 10, 'adam'), ('tanh', 32, 10, 'sgd'), ('tanh', 32, 10, 'rmsprop'), ('tanh', 32, 15, 'adam'), ('tanh', 32, 15, 'sgd'), ('tanh', 32, 15, 'rmsprop')]\n"
     ]
    }
   ],
   "source": [
    "# what I would use if I could use GridSearchCV\n",
    "param_grid = {\n",
    "    'optimizer' : ['adam', 'sgd', 'rmsprop'],\n",
    "    'activation' : ['relu', 'tanh'],\n",
    "    'epochs' : [5, 10, 15],\n",
    "    'epoch_steps' : [8, 16, 32]\n",
    "}\n",
    "\n",
    "# making a list of all combinations to try\n",
    "all_params = sorted(param_grid)\n",
    "param_lists = list(it.product(*(param_grid[param] for param in all_params)))\n",
    "print(param_lists)"
   ]
  },
  {
   "cell_type": "code",
   "execution_count": 90,
   "metadata": {},
   "outputs": [],
   "source": [
    "def create_keras_model(activation, epochs, epoch_steps, optimizer):\n",
    "    # model creation\n",
    "    model = Sequential()\n",
    "\n",
    "    # input layer\n",
    "    model.add(Conv2D(32, (3, 3), input_shape=(224, 224, 3)))\n",
    "    model.add(Activation(activation))\n",
    "    model.add(MaxPooling2D(pool_size=(2, 2)))\n",
    "\n",
    "    # hidden layer 1\n",
    "    model.add(Conv2D(32, (3, 3)))\n",
    "    model.add(Activation(activation))\n",
    "    model.add(MaxPooling2D(pool_size=(2, 2)))\n",
    "\n",
    "    # hidden layer 2\n",
    "    model.add(Conv2D(64, (3, 3)))\n",
    "    model.add(Activation(activation))\n",
    "    model.add(MaxPooling2D(pool_size=(2, 2)))\n",
    "\n",
    "    model.add(Flatten())  # this converts our 3D feature maps to 1D feature vectors\n",
    "    model.add(Dense(64))\n",
    "    model.add(Activation(activation))\n",
    "    model.add(Dropout(0.5))\n",
    "    model.add(Dense(1))\n",
    "    model.add(Activation('sigmoid'))\n",
    "\n",
    "    model.compile(loss='binary_crossentropy',\n",
    "                  optimizer=optimizer,\n",
    "                  metrics=['accuracy'])\n",
    "    \n",
    "    model_result = model.fit_generator(\n",
    "        train_generator,\n",
    "        steps_per_epoch=epoch_steps,\n",
    "        epochs=epochs,\n",
    "        validation_data=validation_generator,\n",
    "        validation_steps=2,\n",
    "        verbose=0)\n",
    "    \n",
    "    return model_result"
   ]
  },
  {
   "cell_type": "code",
   "execution_count": 145,
   "metadata": {},
   "outputs": [],
   "source": [
    "all_model_results = pd.DataFrame(columns=['params', 'val_loss', 'val_accuracy', 'loss', 'accuracy'])\n",
    "\n",
    "#\n",
    "for param_list in param_lists:\n",
    "    model_results = create_keras_model(param_list[0], param_list[1], param_list[2], param_list[3])\n",
    "    new_entry = pd.Series([param_list] + (list(pd.DataFrame(model_results.history).iloc[-1])), index=['params', 'val_loss', 'val_accuracy', 'loss', 'accuracy'])\n",
    "    new_entry = new_entry.to_frame().T\n",
    "    all_model_results = all_model_results.append(new_entry)"
   ]
  },
  {
   "cell_type": "code",
   "execution_count": 17,
   "metadata": {},
   "outputs": [],
   "source": [
    "# all_model_results.sort_values([\"accuracy\", \"loss\"], ascending=False) \n",
    "# the output of this value took 4 hours to compile, unfortunately I lost the table, but here it exists in jpg\n",
    "# data/display_images/hyperparameter_table.PNG"
   ]
  },
  {
   "cell_type": "markdown",
   "metadata": {},
   "source": [
    "(relu, 32, 15, adam) will be the chosen hyperparameters for the model as they provided the higest accuracy and extremely low loss."
   ]
  },
  {
   "cell_type": "code",
   "execution_count": 7,
   "metadata": {},
   "outputs": [
    {
     "name": "stdout",
     "output_type": "stream",
     "text": [
      "Epoch 1/32\n",
      "15/15 [==============================] - 22s 1s/step - loss: 0.5068 - accuracy: 0.7315 - val_loss: 0.1976 - val_accuracy: 0.9667\n",
      "Epoch 2/32\n",
      "15/15 [==============================] - 21s 1s/step - loss: 0.2700 - accuracy: 0.9028 - val_loss: 0.0657 - val_accuracy: 0.9500\n",
      "Epoch 3/32\n",
      "15/15 [==============================] - 22s 1s/step - loss: 0.1450 - accuracy: 0.9560 - val_loss: 0.0137 - val_accuracy: 1.0000\n",
      "Epoch 4/32\n",
      "15/15 [==============================] - 22s 1s/step - loss: 0.1393 - accuracy: 0.9649 - val_loss: 0.0258 - val_accuracy: 1.0000\n",
      "Epoch 5/32\n",
      "15/15 [==============================] - 22s 1s/step - loss: 0.0982 - accuracy: 0.9699 - val_loss: 0.0061 - val_accuracy: 0.9833\n",
      "Epoch 6/32\n",
      "15/15 [==============================] - 20s 1s/step - loss: 0.1219 - accuracy: 0.9534 - val_loss: 0.1040 - val_accuracy: 0.9333\n",
      "Epoch 7/32\n",
      "15/15 [==============================] - 22s 1s/step - loss: 0.1312 - accuracy: 0.9474 - val_loss: 0.0301 - val_accuracy: 1.0000\n",
      "Epoch 8/32\n",
      "15/15 [==============================] - 21s 1s/step - loss: 0.1083 - accuracy: 0.9583 - val_loss: 0.0072 - val_accuracy: 1.0000\n",
      "Epoch 9/32\n",
      "15/15 [==============================] - 22s 1s/step - loss: 0.0554 - accuracy: 0.9838 - val_loss: 0.0014 - val_accuracy: 1.0000\n",
      "Epoch 10/32\n",
      "15/15 [==============================] - 22s 1s/step - loss: 0.0807 - accuracy: 0.9715 - val_loss: 0.2393 - val_accuracy: 0.9500\n",
      "Epoch 11/32\n",
      "15/15 [==============================] - 21s 1s/step - loss: 0.1000 - accuracy: 0.9745 - val_loss: 0.0053 - val_accuracy: 1.0000\n",
      "Epoch 12/32\n",
      "15/15 [==============================] - 20s 1s/step - loss: 0.0535 - accuracy: 0.9804 - val_loss: 0.0129 - val_accuracy: 1.0000\n",
      "Epoch 13/32\n",
      "15/15 [==============================] - 23s 2s/step - loss: 0.0645 - accuracy: 0.9803 - val_loss: 0.0304 - val_accuracy: 1.0000\n",
      "Epoch 14/32\n",
      "15/15 [==============================] - 21s 1s/step - loss: 0.0531 - accuracy: 0.9815 - val_loss: 0.0035 - val_accuracy: 1.0000\n",
      "Epoch 15/32\n",
      "15/15 [==============================] - 22s 1s/step - loss: 0.0591 - accuracy: 0.9861 - val_loss: 0.0083 - val_accuracy: 1.0000\n",
      "Epoch 16/32\n",
      "15/15 [==============================] - 21s 1s/step - loss: 0.0401 - accuracy: 0.9884 - val_loss: 0.0030 - val_accuracy: 1.0000\n",
      "Epoch 17/32\n",
      "15/15 [==============================] - 21s 1s/step - loss: 0.0259 - accuracy: 0.9907 - val_loss: 9.1573e-04 - val_accuracy: 1.0000\n",
      "Epoch 18/32\n",
      "15/15 [==============================] - 22s 1s/step - loss: 0.0344 - accuracy: 0.9861 - val_loss: 0.0085 - val_accuracy: 0.9833\n",
      "Epoch 19/32\n",
      "15/15 [==============================] - 22s 1s/step - loss: 0.0350 - accuracy: 0.9884 - val_loss: 0.0113 - val_accuracy: 0.9833\n",
      "Epoch 20/32\n",
      "15/15 [==============================] - 23s 2s/step - loss: 0.0317 - accuracy: 0.9931 - val_loss: 0.0096 - val_accuracy: 1.0000\n",
      "Epoch 21/32\n",
      "15/15 [==============================] - 23s 2s/step - loss: 0.0350 - accuracy: 0.9931 - val_loss: 0.0485 - val_accuracy: 0.9833\n",
      "Epoch 22/32\n",
      "15/15 [==============================] - 21s 1s/step - loss: 0.0320 - accuracy: 0.9861 - val_loss: 0.0183 - val_accuracy: 1.0000\n",
      "Epoch 23/32\n",
      "15/15 [==============================] - 22s 1s/step - loss: 0.0314 - accuracy: 0.9846 - val_loss: 0.0221 - val_accuracy: 0.9833\n",
      "Epoch 24/32\n",
      "15/15 [==============================] - 21s 1s/step - loss: 0.0411 - accuracy: 0.9907 - val_loss: 0.0121 - val_accuracy: 1.0000\n",
      "Epoch 25/32\n",
      "15/15 [==============================] - 21s 1s/step - loss: 0.0329 - accuracy: 0.9838 - val_loss: 0.0035 - val_accuracy: 0.9667\n",
      "Epoch 26/32\n",
      "15/15 [==============================] - 20s 1s/step - loss: 0.0163 - accuracy: 0.9977 - val_loss: 0.0025 - val_accuracy: 0.9667\n",
      "Epoch 27/32\n",
      "15/15 [==============================] - 21s 1s/step - loss: 0.0222 - accuracy: 0.9907 - val_loss: 1.5318e-04 - val_accuracy: 0.9833\n",
      "Epoch 28/32\n",
      "15/15 [==============================] - 21s 1s/step - loss: 0.0164 - accuracy: 0.9977 - val_loss: 0.0026 - val_accuracy: 0.9833\n",
      "Epoch 29/32\n",
      "15/15 [==============================] - 21s 1s/step - loss: 0.0297 - accuracy: 0.9884 - val_loss: 0.0087 - val_accuracy: 1.0000\n",
      "Epoch 30/32\n",
      "15/15 [==============================] - 21s 1s/step - loss: 0.0424 - accuracy: 0.9868 - val_loss: 0.0113 - val_accuracy: 1.0000\n",
      "Epoch 31/32\n",
      "15/15 [==============================] - 21s 1s/step - loss: 0.0211 - accuracy: 0.9884 - val_loss: 0.0171 - val_accuracy: 1.0000\n",
      "Epoch 32/32\n",
      "15/15 [==============================] - 21s 1s/step - loss: 0.0194 - accuracy: 0.9954 - val_loss: 0.0127 - val_accuracy: 1.0000\n"
     ]
    }
   ],
   "source": [
    "# model creation\n",
    "final_model = Sequential()\n",
    "\n",
    "# input layer\n",
    "final_model.add(Conv2D(32, (3, 3), input_shape=(224, 224, 3)))\n",
    "final_model.add(Activation('relu'))\n",
    "final_model.add(MaxPooling2D(pool_size=(2, 2)))\n",
    "\n",
    "# hidden layer 1\n",
    "final_model.add(Conv2D(32, (3, 3)))\n",
    "final_model.add(Activation('relu'))\n",
    "final_model.add(MaxPooling2D(pool_size=(2, 2)))\n",
    "\n",
    "# hidden layer 2\n",
    "final_model.add(Conv2D(64, (3, 3)))\n",
    "final_model.add(Activation('relu'))\n",
    "final_model.add(MaxPooling2D(pool_size=(2, 2)))\n",
    "\n",
    "final_model.add(Flatten())  # this converts our 3D feature maps to 1D feature vectors\n",
    "final_model.add(Dense(64))\n",
    "final_model.add(Activation('relu'))\n",
    "final_model.add(Dropout(0.5))\n",
    "final_model.add(Dense(1))\n",
    "final_model.add(Activation('sigmoid'))\n",
    "\n",
    "final_model.compile(loss='binary_crossentropy',\n",
    "              optimizer='adam',\n",
    "              metrics=['accuracy'])\n",
    "\n",
    "final_model_result = final_model.fit_generator(\n",
    "    train_generator,\n",
    "    steps_per_epoch=15,\n",
    "    epochs=32,\n",
    "    validation_data=validation_generator,\n",
    "    validation_steps=2,\n",
    "    verbose=1)"
   ]
  },
  {
   "cell_type": "code",
   "execution_count": 9,
   "metadata": {},
   "outputs": [
    {
     "data": {
      "text/html": [
       "<div>\n",
       "<style scoped>\n",
       "    .dataframe tbody tr th:only-of-type {\n",
       "        vertical-align: middle;\n",
       "    }\n",
       "\n",
       "    .dataframe tbody tr th {\n",
       "        vertical-align: top;\n",
       "    }\n",
       "\n",
       "    .dataframe thead th {\n",
       "        text-align: right;\n",
       "    }\n",
       "</style>\n",
       "<table border=\"1\" class=\"dataframe\">\n",
       "  <thead>\n",
       "    <tr style=\"text-align: right;\">\n",
       "      <th></th>\n",
       "      <th>val_loss</th>\n",
       "      <th>val_accuracy</th>\n",
       "      <th>loss</th>\n",
       "      <th>accuracy</th>\n",
       "    </tr>\n",
       "  </thead>\n",
       "  <tbody>\n",
       "    <tr>\n",
       "      <th>0</th>\n",
       "      <td>0.197558</td>\n",
       "      <td>0.966667</td>\n",
       "      <td>0.516078</td>\n",
       "      <td>0.731481</td>\n",
       "    </tr>\n",
       "    <tr>\n",
       "      <th>1</th>\n",
       "      <td>0.065742</td>\n",
       "      <td>0.950000</td>\n",
       "      <td>0.273052</td>\n",
       "      <td>0.902778</td>\n",
       "    </tr>\n",
       "    <tr>\n",
       "      <th>2</th>\n",
       "      <td>0.013660</td>\n",
       "      <td>1.000000</td>\n",
       "      <td>0.154168</td>\n",
       "      <td>0.956019</td>\n",
       "    </tr>\n",
       "    <tr>\n",
       "      <th>3</th>\n",
       "      <td>0.025809</td>\n",
       "      <td>1.000000</td>\n",
       "      <td>0.141248</td>\n",
       "      <td>0.964912</td>\n",
       "    </tr>\n",
       "    <tr>\n",
       "      <th>4</th>\n",
       "      <td>0.006148</td>\n",
       "      <td>0.983333</td>\n",
       "      <td>0.096506</td>\n",
       "      <td>0.969907</td>\n",
       "    </tr>\n",
       "    <tr>\n",
       "      <th>5</th>\n",
       "      <td>0.103996</td>\n",
       "      <td>0.933333</td>\n",
       "      <td>0.126376</td>\n",
       "      <td>0.953431</td>\n",
       "    </tr>\n",
       "    <tr>\n",
       "      <th>6</th>\n",
       "      <td>0.030131</td>\n",
       "      <td>1.000000</td>\n",
       "      <td>0.137095</td>\n",
       "      <td>0.947368</td>\n",
       "    </tr>\n",
       "    <tr>\n",
       "      <th>7</th>\n",
       "      <td>0.007207</td>\n",
       "      <td>1.000000</td>\n",
       "      <td>0.116563</td>\n",
       "      <td>0.958333</td>\n",
       "    </tr>\n",
       "    <tr>\n",
       "      <th>8</th>\n",
       "      <td>0.001385</td>\n",
       "      <td>1.000000</td>\n",
       "      <td>0.060174</td>\n",
       "      <td>0.983796</td>\n",
       "    </tr>\n",
       "    <tr>\n",
       "      <th>9</th>\n",
       "      <td>0.239303</td>\n",
       "      <td>0.950000</td>\n",
       "      <td>0.084459</td>\n",
       "      <td>0.971491</td>\n",
       "    </tr>\n",
       "    <tr>\n",
       "      <th>10</th>\n",
       "      <td>0.005278</td>\n",
       "      <td>1.000000</td>\n",
       "      <td>0.086137</td>\n",
       "      <td>0.974537</td>\n",
       "    </tr>\n",
       "    <tr>\n",
       "      <th>11</th>\n",
       "      <td>0.012880</td>\n",
       "      <td>1.000000</td>\n",
       "      <td>0.058875</td>\n",
       "      <td>0.980392</td>\n",
       "    </tr>\n",
       "    <tr>\n",
       "      <th>12</th>\n",
       "      <td>0.030370</td>\n",
       "      <td>1.000000</td>\n",
       "      <td>0.067607</td>\n",
       "      <td>0.980263</td>\n",
       "    </tr>\n",
       "    <tr>\n",
       "      <th>13</th>\n",
       "      <td>0.003541</td>\n",
       "      <td>1.000000</td>\n",
       "      <td>0.057621</td>\n",
       "      <td>0.981481</td>\n",
       "    </tr>\n",
       "    <tr>\n",
       "      <th>14</th>\n",
       "      <td>0.008339</td>\n",
       "      <td>1.000000</td>\n",
       "      <td>0.043961</td>\n",
       "      <td>0.986111</td>\n",
       "    </tr>\n",
       "    <tr>\n",
       "      <th>15</th>\n",
       "      <td>0.003001</td>\n",
       "      <td>1.000000</td>\n",
       "      <td>0.038733</td>\n",
       "      <td>0.988426</td>\n",
       "    </tr>\n",
       "    <tr>\n",
       "      <th>16</th>\n",
       "      <td>0.000916</td>\n",
       "      <td>1.000000</td>\n",
       "      <td>0.027754</td>\n",
       "      <td>0.990741</td>\n",
       "    </tr>\n",
       "    <tr>\n",
       "      <th>17</th>\n",
       "      <td>0.008459</td>\n",
       "      <td>0.983333</td>\n",
       "      <td>0.037827</td>\n",
       "      <td>0.986111</td>\n",
       "    </tr>\n",
       "    <tr>\n",
       "      <th>18</th>\n",
       "      <td>0.011334</td>\n",
       "      <td>0.983333</td>\n",
       "      <td>0.033881</td>\n",
       "      <td>0.988426</td>\n",
       "    </tr>\n",
       "    <tr>\n",
       "      <th>19</th>\n",
       "      <td>0.009612</td>\n",
       "      <td>1.000000</td>\n",
       "      <td>0.032011</td>\n",
       "      <td>0.993056</td>\n",
       "    </tr>\n",
       "    <tr>\n",
       "      <th>20</th>\n",
       "      <td>0.048519</td>\n",
       "      <td>0.983333</td>\n",
       "      <td>0.037780</td>\n",
       "      <td>0.993056</td>\n",
       "    </tr>\n",
       "    <tr>\n",
       "      <th>21</th>\n",
       "      <td>0.018272</td>\n",
       "      <td>1.000000</td>\n",
       "      <td>0.035096</td>\n",
       "      <td>0.986111</td>\n",
       "    </tr>\n",
       "    <tr>\n",
       "      <th>22</th>\n",
       "      <td>0.022102</td>\n",
       "      <td>0.983333</td>\n",
       "      <td>0.026581</td>\n",
       "      <td>0.984649</td>\n",
       "    </tr>\n",
       "    <tr>\n",
       "      <th>23</th>\n",
       "      <td>0.012126</td>\n",
       "      <td>1.000000</td>\n",
       "      <td>0.040643</td>\n",
       "      <td>0.990741</td>\n",
       "    </tr>\n",
       "    <tr>\n",
       "      <th>24</th>\n",
       "      <td>0.003548</td>\n",
       "      <td>0.966667</td>\n",
       "      <td>0.035989</td>\n",
       "      <td>0.983796</td>\n",
       "    </tr>\n",
       "    <tr>\n",
       "      <th>25</th>\n",
       "      <td>0.002450</td>\n",
       "      <td>0.966667</td>\n",
       "      <td>0.017862</td>\n",
       "      <td>0.997685</td>\n",
       "    </tr>\n",
       "    <tr>\n",
       "      <th>26</th>\n",
       "      <td>0.000153</td>\n",
       "      <td>0.983333</td>\n",
       "      <td>0.024187</td>\n",
       "      <td>0.990741</td>\n",
       "    </tr>\n",
       "    <tr>\n",
       "      <th>27</th>\n",
       "      <td>0.002649</td>\n",
       "      <td>0.983333</td>\n",
       "      <td>0.015891</td>\n",
       "      <td>0.997685</td>\n",
       "    </tr>\n",
       "    <tr>\n",
       "      <th>28</th>\n",
       "      <td>0.008686</td>\n",
       "      <td>1.000000</td>\n",
       "      <td>0.031269</td>\n",
       "      <td>0.988426</td>\n",
       "    </tr>\n",
       "    <tr>\n",
       "      <th>29</th>\n",
       "      <td>0.011300</td>\n",
       "      <td>1.000000</td>\n",
       "      <td>0.042866</td>\n",
       "      <td>0.986842</td>\n",
       "    </tr>\n",
       "    <tr>\n",
       "      <th>30</th>\n",
       "      <td>0.017097</td>\n",
       "      <td>1.000000</td>\n",
       "      <td>0.022933</td>\n",
       "      <td>0.988426</td>\n",
       "    </tr>\n",
       "    <tr>\n",
       "      <th>31</th>\n",
       "      <td>0.012663</td>\n",
       "      <td>1.000000</td>\n",
       "      <td>0.019718</td>\n",
       "      <td>0.995370</td>\n",
       "    </tr>\n",
       "  </tbody>\n",
       "</table>\n",
       "</div>"
      ],
      "text/plain": [
       "    val_loss  val_accuracy      loss  accuracy\n",
       "0   0.197558      0.966667  0.516078  0.731481\n",
       "1   0.065742      0.950000  0.273052  0.902778\n",
       "2   0.013660      1.000000  0.154168  0.956019\n",
       "3   0.025809      1.000000  0.141248  0.964912\n",
       "4   0.006148      0.983333  0.096506  0.969907\n",
       "5   0.103996      0.933333  0.126376  0.953431\n",
       "6   0.030131      1.000000  0.137095  0.947368\n",
       "7   0.007207      1.000000  0.116563  0.958333\n",
       "8   0.001385      1.000000  0.060174  0.983796\n",
       "9   0.239303      0.950000  0.084459  0.971491\n",
       "10  0.005278      1.000000  0.086137  0.974537\n",
       "11  0.012880      1.000000  0.058875  0.980392\n",
       "12  0.030370      1.000000  0.067607  0.980263\n",
       "13  0.003541      1.000000  0.057621  0.981481\n",
       "14  0.008339      1.000000  0.043961  0.986111\n",
       "15  0.003001      1.000000  0.038733  0.988426\n",
       "16  0.000916      1.000000  0.027754  0.990741\n",
       "17  0.008459      0.983333  0.037827  0.986111\n",
       "18  0.011334      0.983333  0.033881  0.988426\n",
       "19  0.009612      1.000000  0.032011  0.993056\n",
       "20  0.048519      0.983333  0.037780  0.993056\n",
       "21  0.018272      1.000000  0.035096  0.986111\n",
       "22  0.022102      0.983333  0.026581  0.984649\n",
       "23  0.012126      1.000000  0.040643  0.990741\n",
       "24  0.003548      0.966667  0.035989  0.983796\n",
       "25  0.002450      0.966667  0.017862  0.997685\n",
       "26  0.000153      0.983333  0.024187  0.990741\n",
       "27  0.002649      0.983333  0.015891  0.997685\n",
       "28  0.008686      1.000000  0.031269  0.988426\n",
       "29  0.011300      1.000000  0.042866  0.986842\n",
       "30  0.017097      1.000000  0.022933  0.988426\n",
       "31  0.012663      1.000000  0.019718  0.995370"
      ]
     },
     "execution_count": 9,
     "metadata": {},
     "output_type": "execute_result"
    }
   ],
   "source": [
    "pd.DataFrame(final_model_result.history)"
   ]
  },
  {
   "cell_type": "code",
   "execution_count": 10,
   "metadata": {},
   "outputs": [],
   "source": [
    "y_pred = []\n",
    "\n",
    "# get predictions for all in the Normal validation set\n",
    "for file in os.listdir(\"./data/prepped_datasets/val/Normal/\"):\n",
    "    img=image.load_img(\"./data/prepped_datasets/val/Normal/\" + file, target_size=(224,224))\n",
    "    img=image.img_to_array(img)\n",
    "    img=np.expand_dims(img, axis=0)\n",
    "    pred=final_model.predict_classes(img)\n",
    "    y_pred.append(pred[0,0])\n",
    "    \n",
    "for file in os.listdir(\"./data/prepped_datasets/val/Covid/\"):\n",
    "    img=image.load_img(\"./data/prepped_datasets/val/Covid/\" + file, target_size=(224,224))\n",
    "    img=image.img_to_array(img)\n",
    "    img=np.expand_dims(img,axis=0)\n",
    "    pred=final_model.predict_classes(img)\n",
    "    y_pred.append(pred[0,0])\n",
    "    \n",
    "y_pred=np.array(y_pred)"
   ]
  },
  {
   "cell_type": "code",
   "execution_count": 11,
   "metadata": {},
   "outputs": [
    {
     "data": {
      "text/plain": [
       "array([[30,  0],\n",
       "       [ 0, 30]], dtype=int64)"
      ]
     },
     "execution_count": 11,
     "metadata": {},
     "output_type": "execute_result"
    }
   ],
   "source": [
    "confusion_matrix(y_true, y_pred)"
   ]
  },
  {
   "cell_type": "code",
   "execution_count": 12,
   "metadata": {},
   "outputs": [
    {
     "name": "stdout",
     "output_type": "stream",
     "text": [
      "              precision    recall  f1-score   support\n",
      "\n",
      "           0       1.00      1.00      1.00        30\n",
      "           1       1.00      1.00      1.00        30\n",
      "\n",
      "    accuracy                           1.00        60\n",
      "   macro avg       1.00      1.00      1.00        60\n",
      "weighted avg       1.00      1.00      1.00        60\n",
      "\n"
     ]
    }
   ],
   "source": [
    "print(classification_report(y_true, y_pred))"
   ]
  },
  {
   "cell_type": "code",
   "execution_count": 13,
   "metadata": {},
   "outputs": [
    {
     "data": {
      "text/plain": [
       "<matplotlib.axes._subplots.AxesSubplot at 0x2522049f988>"
      ]
     },
     "execution_count": 13,
     "metadata": {},
     "output_type": "execute_result"
    },
    {
     "data": {
      "image/png": "[encoded data removed]",
      "text/plain": [
       "<Figure size 432x288 with 2 Axes>"
      ]
     },
     "metadata": {
      "needs_background": "light"
     },
     "output_type": "display_data"
    }
   ],
   "source": [
    "# {'Covid': 0, 'Normal': 1}\n",
    "sns.heatmap(confusion_matrix(y_true, y_pred), annot=True)"
   ]
  }
 ],
 "metadata": {
  "kernelspec": {
   "display_name": "Python 3",
   "language": "python",
   "name": "python3"
  },
  "language_info": {
   "codemirror_mode": {
    "name": "ipython",
    "version": 3
   },
   "file_extension": ".py",
   "mimetype": "text/x-python",
   "name": "python",
   "nbconvert_exporter": "python",
   "pygments_lexer": "ipython3",
   "version": "3.7.6"
  }
 },
 "nbformat": 4,
 "nbformat_minor": 4
}
